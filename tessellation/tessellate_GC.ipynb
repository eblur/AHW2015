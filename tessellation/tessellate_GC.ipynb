{
 "cells": [
  {
   "cell_type": "code",
   "execution_count": 1,
   "metadata": {
    "collapsed": false
   },
   "outputs": [],
   "source": [
    "import numpy as np\n",
    "import matplotlib.pyplot as plt\n",
    "\n",
    "%matplotlib inline"
   ]
  },
  {
   "cell_type": "code",
   "execution_count": 2,
   "metadata": {
    "collapsed": false
   },
   "outputs": [
    {
     "name": "stderr",
     "output_type": "stream",
     "text": [
      "//anaconda/lib/python2.7/site-packages/IPython/kernel/__init__.py:13: ShimWarning: The `IPython.kernel` package has been deprecated. You should import from ipykernel or jupyter_client instead.\n",
      "  \"You should import from ipykernel or jupyter_client instead.\", ShimWarning)\n"
     ]
    }
   ],
   "source": [
    "from astropy.io import fits"
   ]
  },
  {
   "cell_type": "code",
   "execution_count": 3,
   "metadata": {
    "collapsed": false
   },
   "outputs": [
    {
     "name": "stdout",
     "output_type": "stream",
     "text": [
      "/Users/lia/Galactic_Center/acisI_merged\n"
     ]
    }
   ],
   "source": [
    "cd ~/Galactic_Center/acisI_merged/"
   ]
  },
  {
   "cell_type": "code",
   "execution_count": 4,
   "metadata": {
    "collapsed": true
   },
   "outputs": [],
   "source": [
    "def trim_events(events, xmin=0,xmax=10000,ymin=0,ymax=10000):\n",
    "    ix = (events['x'] >= xmin) & (events['x'] <= xmax)\n",
    "    iy = (events['y'] >= ymin) & (events['y'] <= ymax)\n",
    "    result = events[ix&iy]\n",
    "    return result"
   ]
  },
  {
   "cell_type": "code",
   "execution_count": 5,
   "metadata": {
    "collapsed": true
   },
   "outputs": [],
   "source": [
    "EVTFILE = '13016_reproj_evt.fits'\n",
    "hdulist = fits.open(EVTFILE, memmap=True)\n",
    "events  = hdulist[1].data\n",
    "hdulist.close()\n",
    "\n",
    "events = trim_events(events)"
   ]
  },
  {
   "cell_type": "code",
   "execution_count": 6,
   "metadata": {
    "collapsed": false
   },
   "outputs": [],
   "source": [
    "#events.columns"
   ]
  },
  {
   "cell_type": "code",
   "execution_count": 7,
   "metadata": {
    "collapsed": true
   },
   "outputs": [],
   "source": [
    "from matplotlib.colors import LogNorm"
   ]
  },
  {
   "cell_type": "code",
   "execution_count": 8,
   "metadata": {
    "collapsed": true
   },
   "outputs": [],
   "source": [
    "def energy_bin_image( emin, emax, nbins=200 ):\n",
    "    ie = ( events['energy']/1.e3 >= emin ) & ( events['energy']/1.e3 <= emax )\n",
    "    H, xedges, yedges = np.histogram2d( events['x'][ie], events['y'][ie], bins=(nbins,nbins))\n",
    "    im = plt.imshow(H, interpolation='nearest', origin='low',\n",
    "                extent=[xedges[0], xedges[-1], yedges[0], yedges[-1]], aspect='auto', norm=LogNorm() )\n",
    "    cbar = plt.colorbar(label='counts')\n",
    "    return (H, xedges, yedges)"
   ]
  },
  {
   "cell_type": "code",
   "execution_count": 137,
   "metadata": {
    "collapsed": false
   },
   "outputs": [
    {
     "data": {
      "image/png": "[encoded data removed]",
      "text/plain": [
       "<matplotlib.figure.Figure at 0x108a3f090>"
      ]
     },
     "metadata": {},
     "output_type": "display_data"
    }
   ],
   "source": [
    "plt.figure()\n",
    "energy_bin_image(6.0,7.0);"
   ]
  },
  {
   "cell_type": "markdown",
   "metadata": {},
   "source": [
    "## Zoom in on data set of interest"
   ]
  },
  {
   "cell_type": "code",
   "execution_count": 10,
   "metadata": {
    "collapsed": false
   },
   "outputs": [],
   "source": [
    "zoomin = trim_events(events, xmin=4000,xmax=4200,ymin=4000,ymax=4200)\n",
    "data = np.vstack((zoomin['x'],zoomin['y'],zoomin['energy'])).T"
   ]
  },
  {
   "cell_type": "code",
   "execution_count": 11,
   "metadata": {
    "collapsed": false
   },
   "outputs": [
    {
     "data": {
      "text/plain": [
       "(6024, 3)"
      ]
     },
     "execution_count": 11,
     "metadata": {},
     "output_type": "execute_result"
    }
   ],
   "source": [
    "data.shape"
   ]
  },
  {
   "cell_type": "code",
   "execution_count": 12,
   "metadata": {
    "collapsed": true
   },
   "outputs": [],
   "source": [
    "from scipy.spatial import Delaunay"
   ]
  },
  {
   "cell_type": "code",
   "execution_count": 13,
   "metadata": {
    "collapsed": false
   },
   "outputs": [
    {
     "name": "stdout",
     "output_type": "stream",
     "text": [
      "CPU times: user 192 ms, sys: 6.01 ms, total: 198 ms\n",
      "Wall time: 197 ms\n"
     ]
    }
   ],
   "source": [
    "%%time\n",
    "dtes = Delaunay(data, incremental=True)"
   ]
  },
  {
   "cell_type": "code",
   "execution_count": 14,
   "metadata": {
    "collapsed": false
   },
   "outputs": [
    {
     "data": {
      "text/plain": [
       "(array([ 4120.41699219,  4045.24658203,  6683.31445312], dtype=float32),\n",
       " array([[ 4198.65283203,  4197.33300781,  3078.90771484],\n",
       "        [ 4192.32080078,  4183.80664062,  2202.79418945],\n",
       "        [ 4196.03613281,  4186.87207031,   450.69659424],\n",
       "        [ 4187.1171875 ,  4189.72070312,  1786.12585449]], dtype=float32))"
      ]
     },
     "execution_count": 14,
     "metadata": {},
     "output_type": "execute_result"
    }
   ],
   "source": [
    "data[0], data[dtes.simplices[0]]"
   ]
  },
  {
   "cell_type": "markdown",
   "metadata": {},
   "source": [
    "** How does this tessellation object work? **"
   ]
  },
  {
   "cell_type": "code",
   "execution_count": null,
   "metadata": {
    "collapsed": false
   },
   "outputs": [],
   "source": [
    "(indices, indptr) = dtes.vertex_neighbor_vertices"
   ]
  },
  {
   "cell_type": "code",
   "execution_count": null,
   "metadata": {
    "collapsed": false
   },
   "outputs": [],
   "source": [
    "indices.shape, indptr.shape"
   ]
  },
  {
   "cell_type": "code",
   "execution_count": null,
   "metadata": {
    "collapsed": false
   },
   "outputs": [],
   "source": [
    "data[0], data[[indptr[indices[0]:indices[1]]]]"
   ]
  },
  {
   "cell_type": "code",
   "execution_count": null,
   "metadata": {
    "collapsed": false
   },
   "outputs": [],
   "source": [
    "test = dtes.vertex_to_simplex"
   ]
  },
  {
   "cell_type": "code",
   "execution_count": null,
   "metadata": {
    "collapsed": false
   },
   "outputs": [],
   "source": [
    "test.shape"
   ]
  },
  {
   "cell_type": "code",
   "execution_count": null,
   "metadata": {
    "collapsed": false
   },
   "outputs": [],
   "source": [
    "data[0], data[dtes.simplices[test[0]]]"
   ]
  },
  {
   "cell_type": "code",
   "execution_count": null,
   "metadata": {
    "collapsed": true
   },
   "outputs": [],
   "source": [
    "#from ipyparallel import Client"
   ]
  },
  {
   "cell_type": "code",
   "execution_count": null,
   "metadata": {
    "collapsed": false
   },
   "outputs": [],
   "source": [
    "'''rc = Client()\n",
    "ar = rc[:]\n",
    "with ar.sync_imports():\n",
    "    import dtes_GC'''"
   ]
  },
  {
   "cell_type": "code",
   "execution_count": 22,
   "metadata": {
    "collapsed": false
   },
   "outputs": [
    {
     "data": {
      "text/plain": [
       "array([4198, 2258, 2908, 5704], dtype=int32)"
      ]
     },
     "execution_count": 22,
     "metadata": {},
     "output_type": "execute_result"
    }
   ],
   "source": [
    "dtes.simplices[0]"
   ]
  },
  {
   "cell_type": "code",
   "execution_count": 25,
   "metadata": {
    "collapsed": false
   },
   "outputs": [
    {
     "data": {
      "text/plain": [
       "array([ 4120.41699219,  4045.24658203,  6683.31445312], dtype=float32)"
      ]
     },
     "execution_count": 25,
     "metadata": {},
     "output_type": "execute_result"
    }
   ],
   "source": [
    "data[0]"
   ]
  },
  {
   "cell_type": "code",
   "execution_count": 121,
   "metadata": {
    "collapsed": false
   },
   "outputs": [],
   "source": [
    "#test = np.any( data[dtes.simplices] == data[0], axis=2 )\n",
    "#data[dtes.simplices[np.where(test)[0]]]"
   ]
  },
  {
   "cell_type": "code",
   "execution_count": 86,
   "metadata": {
    "collapsed": false
   },
   "outputs": [],
   "source": [
    "def get_vertex_triangles(p):\n",
    "    test = np.any( data[dtes.simplices] == p, axis=2 )\n",
    "    return dtes.simplices[np.where(test)[0]]\n",
    "\n",
    "# To get verticies, run data[get_vertex_triangles(p)]"
   ]
  },
  {
   "cell_type": "code",
   "execution_count": 91,
   "metadata": {
    "collapsed": false
   },
   "outputs": [],
   "source": [
    "trianges = [get_vertex_triangles(data[i]) for i in range(len(data))]"
   ]
  },
  {
   "cell_type": "markdown",
   "metadata": {},
   "source": [
    "With vertices $a, b, c, d$\n",
    "\n",
    "$$ V = \\frac{|(a-d) \\cdot ((b-d) \\times (c-d))|}{6} $$"
   ]
  },
  {
   "cell_type": "code",
   "execution_count": 92,
   "metadata": {
    "collapsed": true
   },
   "outputs": [],
   "source": [
    "def get_triangle_volume(triangle):\n",
    "    a, b, c, d = triangle\n",
    "    assert len(a) == len(b) == len(c) == len(d) == 3\n",
    "    numerator = np.dot(a-d, np.cross(b-d,c-d))\n",
    "    return np.abs(numerator)/6.0"
   ]
  },
  {
   "cell_type": "code",
   "execution_count": 94,
   "metadata": {
    "collapsed": false
   },
   "outputs": [
    {
     "data": {
      "text/plain": [
       "array([[ 4120.41699219,  4045.24658203,  6683.31445312],\n",
       "       [ 4135.51171875,  4033.40039062,  6737.38427734],\n",
       "       [ 4159.22363281,  4018.88452148,  6654.94970703],\n",
       "       [ 4108.48876953,  4031.3503418 ,  6718.80029297]], dtype=float32)"
      ]
     },
     "execution_count": 94,
     "metadata": {},
     "output_type": "execute_result"
    }
   ],
   "source": [
    "data[trianges[0][0]]"
   ]
  },
  {
   "cell_type": "code",
   "execution_count": 95,
   "metadata": {
    "collapsed": false
   },
   "outputs": [
    {
     "data": {
      "text/plain": [
       "8987.6432291666661"
      ]
     },
     "execution_count": 95,
     "metadata": {},
     "output_type": "execute_result"
    }
   ],
   "source": [
    "get_triangle_volume(data[trianges[0][0]])"
   ]
  },
  {
   "cell_type": "code",
   "execution_count": 99,
   "metadata": {
    "collapsed": true
   },
   "outputs": [],
   "source": [
    "def get_point_dens(i):\n",
    "    result = 0.0\n",
    "    for t in data[trianges[i]]:\n",
    "        result += get_triangle_volume(t)\n",
    "    return 4.0/result\n",
    "\n",
    "# In general, should be D+1/result where D is dimensionality of data set"
   ]
  },
  {
   "cell_type": "code",
   "execution_count": 100,
   "metadata": {
    "collapsed": false
   },
   "outputs": [
    {
     "data": {
      "text/plain": [
       "3.5336882724969897e-05"
      ]
     },
     "execution_count": 100,
     "metadata": {},
     "output_type": "execute_result"
    }
   ],
   "source": [
    "get_point_dens(0)"
   ]
  },
  {
   "cell_type": "code",
   "execution_count": 101,
   "metadata": {
    "collapsed": true
   },
   "outputs": [],
   "source": [
    "density_maps = np.array([get_point_dens(i) for i in range(len(data))])"
   ]
  },
  {
   "cell_type": "code",
   "execution_count": 106,
   "metadata": {
    "collapsed": true
   },
   "outputs": [],
   "source": [
    "gridx = np.linspace(4000,4200,200)\n",
    "gridy = np.linspace(4000,4200,200)\n",
    "grid = np.meshgrid( gridx, gridy )"
   ]
  },
  {
   "cell_type": "code",
   "execution_count": 103,
   "metadata": {
    "collapsed": true
   },
   "outputs": [],
   "source": [
    "from scipy.interpolate import griddata"
   ]
  },
  {
   "cell_type": "code",
   "execution_count": 117,
   "metadata": {
    "collapsed": false
   },
   "outputs": [],
   "source": [
    "grid_x, grid_y, grid_z = np.mgrid[4050:4150:100j, 4050:4150:100j, 6000:7000:1j]\n",
    "gridtest = griddata(data, density_maps, (grid_x,grid_y,grid_z), method='linear')"
   ]
  },
  {
   "cell_type": "code",
   "execution_count": 119,
   "metadata": {
    "collapsed": false
   },
   "outputs": [
    {
     "data": {
      "text/plain": [
       "array([[  4.89175768e-06,   4.93881835e-06,   4.98587902e-06, ...,\n",
       "          8.99992664e-06,   8.84707178e-06,   8.69619802e-06],\n",
       "       [  4.92813794e-06,   4.97519861e-06,   5.02225929e-06, ...,\n",
       "          9.04433777e-06,   8.89148291e-06,   8.73862806e-06],\n",
       "       [  4.96451821e-06,   5.01157888e-06,   5.05863955e-06, ...,\n",
       "          9.08874890e-06,   8.93589404e-06,   8.78303919e-06],\n",
       "       ..., \n",
       "       [  2.14356655e-05,   2.08774883e-05,   2.03193110e-05, ...,\n",
       "          9.14179698e-06,   8.75983807e-06,   8.66782255e-06],\n",
       "       [  2.32823028e-05,   2.27241255e-05,   2.21659482e-05, ...,\n",
       "          9.08312117e-06,   8.62724167e-06,   8.49591835e-06],\n",
       "       [  2.51289400e-05,   2.45707627e-05,   2.40125854e-05, ...,\n",
       "          9.02444536e-06,   8.56856586e-06,   8.32401416e-06]])"
      ]
     },
     "execution_count": 119,
     "metadata": {},
     "output_type": "execute_result"
    }
   ],
   "source": [
    "gridtest[:,:,0]"
   ]
  },
  {
   "cell_type": "code",
   "execution_count": 134,
   "metadata": {
    "collapsed": false
   },
   "outputs": [
    {
     "data": {
      "text/plain": [
       "4050.0"
      ]
     },
     "execution_count": 134,
     "metadata": {},
     "output_type": "execute_result"
    }
   ],
   "source": [
    "grid_x[0,0][0]"
   ]
  },
  {
   "cell_type": "code",
   "execution_count": 138,
   "metadata": {
    "collapsed": false
   },
   "outputs": [
    {
     "data": {
      "text/plain": [
       "<matplotlib.text.Text at 0x1088e0190>"
      ]
     },
     "execution_count": 138,
     "metadata": {},
     "output_type": "execute_result"
    },
    {
     "data": {
      "image/png": "[encoded data removed]",
      "text/plain": [
       "<matplotlib.figure.Figure at 0x1089a7a10>"
      ]
     },
     "metadata": {},
     "output_type": "display_data"
    }
   ],
   "source": [
    "plt.imshow(gridtest[:,:,0], #extent=[grid_x[0,0][0], grid_x[-1,-1][0], grid_y[0,0][0], grid_y[-1,-1]][0], \n",
    "               extent=[4050,4150,4050,4150], norm=LogNorm() )\n",
    "cbar = plt.colorbar(label='counts/keV/pix')\n",
    "plt.xlabel('x')\n",
    "plt.ylabel('y')"
   ]
  }
 ],
 "metadata": {
  "kernelspec": {
   "display_name": "Python 2",
   "language": "python",
   "name": "python2"
  },
  "language_info": {
   "codemirror_mode": {
    "name": "ipython",
    "version": 2
   },
   "file_extension": ".py",
   "mimetype": "text/x-python",
   "name": "python",
   "nbconvert_exporter": "python",
   "pygments_lexer": "ipython2",
   "version": "2.7.10"
  }
 },
 "nbformat": 4,
 "nbformat_minor": 0
}
